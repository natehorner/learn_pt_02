{
  "nbformat": 4,
  "nbformat_minor": 0,
  "metadata": {
    "colab": {
      "provenance": [],
      "authorship_tag": "ABX9TyPTZ3ieh735vfmSba1isO0/",
      "include_colab_link": true
    },
    "kernelspec": {
      "name": "python3",
      "display_name": "Python 3"
    },
    "language_info": {
      "name": "python"
    },
    "widgets": {
      "application/vnd.jupyter.widget-state+json": {
        "701a7128954c46fab70cdf98a6a695cd": {
          "model_module": "@jupyter-widgets/controls",
          "model_name": "HBoxModel",
          "model_module_version": "1.5.0",
          "state": {
            "_dom_classes": [],
            "_model_module": "@jupyter-widgets/controls",
            "_model_module_version": "1.5.0",
            "_model_name": "HBoxModel",
            "_view_count": null,
            "_view_module": "@jupyter-widgets/controls",
            "_view_module_version": "1.5.0",
            "_view_name": "HBoxView",
            "box_style": "",
            "children": [
              "IPY_MODEL_21a7a839e99b4dada73096a2f7630dce",
              "IPY_MODEL_8a30de95c00d40d9bc8d9627599db018",
              "IPY_MODEL_1ea985c7a5f04f0493e9aa6503b192b8"
            ],
            "layout": "IPY_MODEL_5cb51354bb73442389d4e7673e44f43b"
          }
        },
        "21a7a839e99b4dada73096a2f7630dce": {
          "model_module": "@jupyter-widgets/controls",
          "model_name": "HTMLModel",
          "model_module_version": "1.5.0",
          "state": {
            "_dom_classes": [],
            "_model_module": "@jupyter-widgets/controls",
            "_model_module_version": "1.5.0",
            "_model_name": "HTMLModel",
            "_view_count": null,
            "_view_module": "@jupyter-widgets/controls",
            "_view_module_version": "1.5.0",
            "_view_name": "HTMLView",
            "description": "",
            "description_tooltip": null,
            "layout": "IPY_MODEL_fe36c3d987ad4c1dadd62cef480ce11c",
            "placeholder": "​",
            "style": "IPY_MODEL_304afbd9c30648009e7ab0e35490140d",
            "value": "100%"
          }
        },
        "8a30de95c00d40d9bc8d9627599db018": {
          "model_module": "@jupyter-widgets/controls",
          "model_name": "FloatProgressModel",
          "model_module_version": "1.5.0",
          "state": {
            "_dom_classes": [],
            "_model_module": "@jupyter-widgets/controls",
            "_model_module_version": "1.5.0",
            "_model_name": "FloatProgressModel",
            "_view_count": null,
            "_view_module": "@jupyter-widgets/controls",
            "_view_module_version": "1.5.0",
            "_view_name": "ProgressView",
            "bar_style": "success",
            "description": "",
            "description_tooltip": null,
            "layout": "IPY_MODEL_053b3a93f2c24de08e35b0b3d5dab396",
            "max": 5,
            "min": 0,
            "orientation": "horizontal",
            "style": "IPY_MODEL_8a5c8cf2b7454d6d885603088b369612",
            "value": 5
          }
        },
        "1ea985c7a5f04f0493e9aa6503b192b8": {
          "model_module": "@jupyter-widgets/controls",
          "model_name": "HTMLModel",
          "model_module_version": "1.5.0",
          "state": {
            "_dom_classes": [],
            "_model_module": "@jupyter-widgets/controls",
            "_model_module_version": "1.5.0",
            "_model_name": "HTMLModel",
            "_view_count": null,
            "_view_module": "@jupyter-widgets/controls",
            "_view_module_version": "1.5.0",
            "_view_name": "HTMLView",
            "description": "",
            "description_tooltip": null,
            "layout": "IPY_MODEL_e5296a46cbe14b43a0e14ae79c903bee",
            "placeholder": "​",
            "style": "IPY_MODEL_5f674fcd5b0a4e31bd643e81c90eefba",
            "value": " 5/5 [06:51&lt;00:00, 82.43s/it]"
          }
        },
        "5cb51354bb73442389d4e7673e44f43b": {
          "model_module": "@jupyter-widgets/base",
          "model_name": "LayoutModel",
          "model_module_version": "1.2.0",
          "state": {
            "_model_module": "@jupyter-widgets/base",
            "_model_module_version": "1.2.0",
            "_model_name": "LayoutModel",
            "_view_count": null,
            "_view_module": "@jupyter-widgets/base",
            "_view_module_version": "1.2.0",
            "_view_name": "LayoutView",
            "align_content": null,
            "align_items": null,
            "align_self": null,
            "border": null,
            "bottom": null,
            "display": null,
            "flex": null,
            "flex_flow": null,
            "grid_area": null,
            "grid_auto_columns": null,
            "grid_auto_flow": null,
            "grid_auto_rows": null,
            "grid_column": null,
            "grid_gap": null,
            "grid_row": null,
            "grid_template_areas": null,
            "grid_template_columns": null,
            "grid_template_rows": null,
            "height": null,
            "justify_content": null,
            "justify_items": null,
            "left": null,
            "margin": null,
            "max_height": null,
            "max_width": null,
            "min_height": null,
            "min_width": null,
            "object_fit": null,
            "object_position": null,
            "order": null,
            "overflow": null,
            "overflow_x": null,
            "overflow_y": null,
            "padding": null,
            "right": null,
            "top": null,
            "visibility": null,
            "width": null
          }
        },
        "fe36c3d987ad4c1dadd62cef480ce11c": {
          "model_module": "@jupyter-widgets/base",
          "model_name": "LayoutModel",
          "model_module_version": "1.2.0",
          "state": {
            "_model_module": "@jupyter-widgets/base",
            "_model_module_version": "1.2.0",
            "_model_name": "LayoutModel",
            "_view_count": null,
            "_view_module": "@jupyter-widgets/base",
            "_view_module_version": "1.2.0",
            "_view_name": "LayoutView",
            "align_content": null,
            "align_items": null,
            "align_self": null,
            "border": null,
            "bottom": null,
            "display": null,
            "flex": null,
            "flex_flow": null,
            "grid_area": null,
            "grid_auto_columns": null,
            "grid_auto_flow": null,
            "grid_auto_rows": null,
            "grid_column": null,
            "grid_gap": null,
            "grid_row": null,
            "grid_template_areas": null,
            "grid_template_columns": null,
            "grid_template_rows": null,
            "height": null,
            "justify_content": null,
            "justify_items": null,
            "left": null,
            "margin": null,
            "max_height": null,
            "max_width": null,
            "min_height": null,
            "min_width": null,
            "object_fit": null,
            "object_position": null,
            "order": null,
            "overflow": null,
            "overflow_x": null,
            "overflow_y": null,
            "padding": null,
            "right": null,
            "top": null,
            "visibility": null,
            "width": null
          }
        },
        "304afbd9c30648009e7ab0e35490140d": {
          "model_module": "@jupyter-widgets/controls",
          "model_name": "DescriptionStyleModel",
          "model_module_version": "1.5.0",
          "state": {
            "_model_module": "@jupyter-widgets/controls",
            "_model_module_version": "1.5.0",
            "_model_name": "DescriptionStyleModel",
            "_view_count": null,
            "_view_module": "@jupyter-widgets/base",
            "_view_module_version": "1.2.0",
            "_view_name": "StyleView",
            "description_width": ""
          }
        },
        "053b3a93f2c24de08e35b0b3d5dab396": {
          "model_module": "@jupyter-widgets/base",
          "model_name": "LayoutModel",
          "model_module_version": "1.2.0",
          "state": {
            "_model_module": "@jupyter-widgets/base",
            "_model_module_version": "1.2.0",
            "_model_name": "LayoutModel",
            "_view_count": null,
            "_view_module": "@jupyter-widgets/base",
            "_view_module_version": "1.2.0",
            "_view_name": "LayoutView",
            "align_content": null,
            "align_items": null,
            "align_self": null,
            "border": null,
            "bottom": null,
            "display": null,
            "flex": null,
            "flex_flow": null,
            "grid_area": null,
            "grid_auto_columns": null,
            "grid_auto_flow": null,
            "grid_auto_rows": null,
            "grid_column": null,
            "grid_gap": null,
            "grid_row": null,
            "grid_template_areas": null,
            "grid_template_columns": null,
            "grid_template_rows": null,
            "height": null,
            "justify_content": null,
            "justify_items": null,
            "left": null,
            "margin": null,
            "max_height": null,
            "max_width": null,
            "min_height": null,
            "min_width": null,
            "object_fit": null,
            "object_position": null,
            "order": null,
            "overflow": null,
            "overflow_x": null,
            "overflow_y": null,
            "padding": null,
            "right": null,
            "top": null,
            "visibility": null,
            "width": null
          }
        },
        "8a5c8cf2b7454d6d885603088b369612": {
          "model_module": "@jupyter-widgets/controls",
          "model_name": "ProgressStyleModel",
          "model_module_version": "1.5.0",
          "state": {
            "_model_module": "@jupyter-widgets/controls",
            "_model_module_version": "1.5.0",
            "_model_name": "ProgressStyleModel",
            "_view_count": null,
            "_view_module": "@jupyter-widgets/base",
            "_view_module_version": "1.2.0",
            "_view_name": "StyleView",
            "bar_color": null,
            "description_width": ""
          }
        },
        "e5296a46cbe14b43a0e14ae79c903bee": {
          "model_module": "@jupyter-widgets/base",
          "model_name": "LayoutModel",
          "model_module_version": "1.2.0",
          "state": {
            "_model_module": "@jupyter-widgets/base",
            "_model_module_version": "1.2.0",
            "_model_name": "LayoutModel",
            "_view_count": null,
            "_view_module": "@jupyter-widgets/base",
            "_view_module_version": "1.2.0",
            "_view_name": "LayoutView",
            "align_content": null,
            "align_items": null,
            "align_self": null,
            "border": null,
            "bottom": null,
            "display": null,
            "flex": null,
            "flex_flow": null,
            "grid_area": null,
            "grid_auto_columns": null,
            "grid_auto_flow": null,
            "grid_auto_rows": null,
            "grid_column": null,
            "grid_gap": null,
            "grid_row": null,
            "grid_template_areas": null,
            "grid_template_columns": null,
            "grid_template_rows": null,
            "height": null,
            "justify_content": null,
            "justify_items": null,
            "left": null,
            "margin": null,
            "max_height": null,
            "max_width": null,
            "min_height": null,
            "min_width": null,
            "object_fit": null,
            "object_position": null,
            "order": null,
            "overflow": null,
            "overflow_x": null,
            "overflow_y": null,
            "padding": null,
            "right": null,
            "top": null,
            "visibility": null,
            "width": null
          }
        },
        "5f674fcd5b0a4e31bd643e81c90eefba": {
          "model_module": "@jupyter-widgets/controls",
          "model_name": "DescriptionStyleModel",
          "model_module_version": "1.5.0",
          "state": {
            "_model_module": "@jupyter-widgets/controls",
            "_model_module_version": "1.5.0",
            "_model_name": "DescriptionStyleModel",
            "_view_count": null,
            "_view_module": "@jupyter-widgets/base",
            "_view_module_version": "1.2.0",
            "_view_name": "StyleView",
            "description_width": ""
          }
        },
        "248e6fde988449fc83b0f75f28c439e8": {
          "model_module": "@jupyter-widgets/controls",
          "model_name": "HBoxModel",
          "model_module_version": "1.5.0",
          "state": {
            "_dom_classes": [],
            "_model_module": "@jupyter-widgets/controls",
            "_model_module_version": "1.5.0",
            "_model_name": "HBoxModel",
            "_view_count": null,
            "_view_module": "@jupyter-widgets/controls",
            "_view_module_version": "1.5.0",
            "_view_name": "HBoxView",
            "box_style": "",
            "children": [
              "IPY_MODEL_8d0b3adb2ec34da9be2ed4cdf2ae1863",
              "IPY_MODEL_74afea0ce3a74e70a237952d743ffd26",
              "IPY_MODEL_50e201bb32d9416e83e5dfde32869613"
            ],
            "layout": "IPY_MODEL_9932718b9b9c4591bfc5346ba94afd39"
          }
        },
        "8d0b3adb2ec34da9be2ed4cdf2ae1863": {
          "model_module": "@jupyter-widgets/controls",
          "model_name": "HTMLModel",
          "model_module_version": "1.5.0",
          "state": {
            "_dom_classes": [],
            "_model_module": "@jupyter-widgets/controls",
            "_model_module_version": "1.5.0",
            "_model_name": "HTMLModel",
            "_view_count": null,
            "_view_module": "@jupyter-widgets/controls",
            "_view_module_version": "1.5.0",
            "_view_name": "HTMLView",
            "description": "",
            "description_tooltip": null,
            "layout": "IPY_MODEL_e5b661f2c93e4a80b39d182e3ba3a968",
            "placeholder": "​",
            "style": "IPY_MODEL_816c1d7c3369495eb547b41252f020a7",
            "value": "100%"
          }
        },
        "74afea0ce3a74e70a237952d743ffd26": {
          "model_module": "@jupyter-widgets/controls",
          "model_name": "FloatProgressModel",
          "model_module_version": "1.5.0",
          "state": {
            "_dom_classes": [],
            "_model_module": "@jupyter-widgets/controls",
            "_model_module_version": "1.5.0",
            "_model_name": "FloatProgressModel",
            "_view_count": null,
            "_view_module": "@jupyter-widgets/controls",
            "_view_module_version": "1.5.0",
            "_view_name": "ProgressView",
            "bar_style": "success",
            "description": "",
            "description_tooltip": null,
            "layout": "IPY_MODEL_934ce01e179d4eb2a63d54f2e5c5c2d0",
            "max": 417,
            "min": 0,
            "orientation": "horizontal",
            "style": "IPY_MODEL_ab1190f2b4694d139eaa260db72e2734",
            "value": 417
          }
        },
        "50e201bb32d9416e83e5dfde32869613": {
          "model_module": "@jupyter-widgets/controls",
          "model_name": "HTMLModel",
          "model_module_version": "1.5.0",
          "state": {
            "_dom_classes": [],
            "_model_module": "@jupyter-widgets/controls",
            "_model_module_version": "1.5.0",
            "_model_name": "HTMLModel",
            "_view_count": null,
            "_view_module": "@jupyter-widgets/controls",
            "_view_module_version": "1.5.0",
            "_view_name": "HTMLView",
            "description": "",
            "description_tooltip": null,
            "layout": "IPY_MODEL_e94608fe15634927b4c7f1217e0863ad",
            "placeholder": "​",
            "style": "IPY_MODEL_8ef0ed480f7b45ddb006f1519c55b0b5",
            "value": " 417/417 [00:06&lt;00:00, 66.62it/s]"
          }
        },
        "9932718b9b9c4591bfc5346ba94afd39": {
          "model_module": "@jupyter-widgets/base",
          "model_name": "LayoutModel",
          "model_module_version": "1.2.0",
          "state": {
            "_model_module": "@jupyter-widgets/base",
            "_model_module_version": "1.2.0",
            "_model_name": "LayoutModel",
            "_view_count": null,
            "_view_module": "@jupyter-widgets/base",
            "_view_module_version": "1.2.0",
            "_view_name": "LayoutView",
            "align_content": null,
            "align_items": null,
            "align_self": null,
            "border": null,
            "bottom": null,
            "display": null,
            "flex": null,
            "flex_flow": null,
            "grid_area": null,
            "grid_auto_columns": null,
            "grid_auto_flow": null,
            "grid_auto_rows": null,
            "grid_column": null,
            "grid_gap": null,
            "grid_row": null,
            "grid_template_areas": null,
            "grid_template_columns": null,
            "grid_template_rows": null,
            "height": null,
            "justify_content": null,
            "justify_items": null,
            "left": null,
            "margin": null,
            "max_height": null,
            "max_width": null,
            "min_height": null,
            "min_width": null,
            "object_fit": null,
            "object_position": null,
            "order": null,
            "overflow": null,
            "overflow_x": null,
            "overflow_y": null,
            "padding": null,
            "right": null,
            "top": null,
            "visibility": null,
            "width": null
          }
        },
        "e5b661f2c93e4a80b39d182e3ba3a968": {
          "model_module": "@jupyter-widgets/base",
          "model_name": "LayoutModel",
          "model_module_version": "1.2.0",
          "state": {
            "_model_module": "@jupyter-widgets/base",
            "_model_module_version": "1.2.0",
            "_model_name": "LayoutModel",
            "_view_count": null,
            "_view_module": "@jupyter-widgets/base",
            "_view_module_version": "1.2.0",
            "_view_name": "LayoutView",
            "align_content": null,
            "align_items": null,
            "align_self": null,
            "border": null,
            "bottom": null,
            "display": null,
            "flex": null,
            "flex_flow": null,
            "grid_area": null,
            "grid_auto_columns": null,
            "grid_auto_flow": null,
            "grid_auto_rows": null,
            "grid_column": null,
            "grid_gap": null,
            "grid_row": null,
            "grid_template_areas": null,
            "grid_template_columns": null,
            "grid_template_rows": null,
            "height": null,
            "justify_content": null,
            "justify_items": null,
            "left": null,
            "margin": null,
            "max_height": null,
            "max_width": null,
            "min_height": null,
            "min_width": null,
            "object_fit": null,
            "object_position": null,
            "order": null,
            "overflow": null,
            "overflow_x": null,
            "overflow_y": null,
            "padding": null,
            "right": null,
            "top": null,
            "visibility": null,
            "width": null
          }
        },
        "816c1d7c3369495eb547b41252f020a7": {
          "model_module": "@jupyter-widgets/controls",
          "model_name": "DescriptionStyleModel",
          "model_module_version": "1.5.0",
          "state": {
            "_model_module": "@jupyter-widgets/controls",
            "_model_module_version": "1.5.0",
            "_model_name": "DescriptionStyleModel",
            "_view_count": null,
            "_view_module": "@jupyter-widgets/base",
            "_view_module_version": "1.2.0",
            "_view_name": "StyleView",
            "description_width": ""
          }
        },
        "934ce01e179d4eb2a63d54f2e5c5c2d0": {
          "model_module": "@jupyter-widgets/base",
          "model_name": "LayoutModel",
          "model_module_version": "1.2.0",
          "state": {
            "_model_module": "@jupyter-widgets/base",
            "_model_module_version": "1.2.0",
            "_model_name": "LayoutModel",
            "_view_count": null,
            "_view_module": "@jupyter-widgets/base",
            "_view_module_version": "1.2.0",
            "_view_name": "LayoutView",
            "align_content": null,
            "align_items": null,
            "align_self": null,
            "border": null,
            "bottom": null,
            "display": null,
            "flex": null,
            "flex_flow": null,
            "grid_area": null,
            "grid_auto_columns": null,
            "grid_auto_flow": null,
            "grid_auto_rows": null,
            "grid_column": null,
            "grid_gap": null,
            "grid_row": null,
            "grid_template_areas": null,
            "grid_template_columns": null,
            "grid_template_rows": null,
            "height": null,
            "justify_content": null,
            "justify_items": null,
            "left": null,
            "margin": null,
            "max_height": null,
            "max_width": null,
            "min_height": null,
            "min_width": null,
            "object_fit": null,
            "object_position": null,
            "order": null,
            "overflow": null,
            "overflow_x": null,
            "overflow_y": null,
            "padding": null,
            "right": null,
            "top": null,
            "visibility": null,
            "width": null
          }
        },
        "ab1190f2b4694d139eaa260db72e2734": {
          "model_module": "@jupyter-widgets/controls",
          "model_name": "ProgressStyleModel",
          "model_module_version": "1.5.0",
          "state": {
            "_model_module": "@jupyter-widgets/controls",
            "_model_module_version": "1.5.0",
            "_model_name": "ProgressStyleModel",
            "_view_count": null,
            "_view_module": "@jupyter-widgets/base",
            "_view_module_version": "1.2.0",
            "_view_name": "StyleView",
            "bar_color": null,
            "description_width": ""
          }
        },
        "e94608fe15634927b4c7f1217e0863ad": {
          "model_module": "@jupyter-widgets/base",
          "model_name": "LayoutModel",
          "model_module_version": "1.2.0",
          "state": {
            "_model_module": "@jupyter-widgets/base",
            "_model_module_version": "1.2.0",
            "_model_name": "LayoutModel",
            "_view_count": null,
            "_view_module": "@jupyter-widgets/base",
            "_view_module_version": "1.2.0",
            "_view_name": "LayoutView",
            "align_content": null,
            "align_items": null,
            "align_self": null,
            "border": null,
            "bottom": null,
            "display": null,
            "flex": null,
            "flex_flow": null,
            "grid_area": null,
            "grid_auto_columns": null,
            "grid_auto_flow": null,
            "grid_auto_rows": null,
            "grid_column": null,
            "grid_gap": null,
            "grid_row": null,
            "grid_template_areas": null,
            "grid_template_columns": null,
            "grid_template_rows": null,
            "height": null,
            "justify_content": null,
            "justify_items": null,
            "left": null,
            "margin": null,
            "max_height": null,
            "max_width": null,
            "min_height": null,
            "min_width": null,
            "object_fit": null,
            "object_position": null,
            "order": null,
            "overflow": null,
            "overflow_x": null,
            "overflow_y": null,
            "padding": null,
            "right": null,
            "top": null,
            "visibility": null,
            "width": null
          }
        },
        "8ef0ed480f7b45ddb006f1519c55b0b5": {
          "model_module": "@jupyter-widgets/controls",
          "model_name": "DescriptionStyleModel",
          "model_module_version": "1.5.0",
          "state": {
            "_model_module": "@jupyter-widgets/controls",
            "_model_module_version": "1.5.0",
            "_model_name": "DescriptionStyleModel",
            "_view_count": null,
            "_view_module": "@jupyter-widgets/base",
            "_view_module_version": "1.2.0",
            "_view_name": "StyleView",
            "description_width": ""
          }
        }
      }
    }
  },
  "cells": [
    {
      "cell_type": "markdown",
      "metadata": {
        "id": "view-in-github",
        "colab_type": "text"
      },
      "source": [
        "<a href=\"https://colab.research.google.com/github/natehorner/learn_pt_02/blob/main/pt_vision_noise_machine.ipynb\" target=\"_parent\"><img src=\"https://colab.research.google.com/assets/colab-badge.svg\" alt=\"Open In Colab\"/></a>"
      ]
    },
    {
      "cell_type": "markdown",
      "source": [
        "Try to add a class of \"noise\" to see if a CNV can see between 10 classes of item and garbage input"
      ],
      "metadata": {
        "id": "hayFvL8usXXZ"
      }
    },
    {
      "cell_type": "code",
      "execution_count": 1,
      "metadata": {
        "colab": {
          "base_uri": "https://localhost:8080/"
        },
        "id": "uywIj6WksThT",
        "outputId": "4e33d914-5fd2-40dc-dfad-4e809c76c7c9"
      },
      "outputs": [
        {
          "output_type": "stream",
          "name": "stdout",
          "text": [
            "Collecting torchmetrics\n",
            "  Downloading torchmetrics-1.2.0-py3-none-any.whl (805 kB)\n",
            "\u001b[2K     \u001b[90m━━━━━━━━━━━━━━━━━━━━━━━━━━━━━━━━━━━━━━━━\u001b[0m \u001b[32m805.2/805.2 kB\u001b[0m \u001b[31m6.0 MB/s\u001b[0m eta \u001b[36m0:00:00\u001b[0m\n",
            "\u001b[?25hRequirement already satisfied: numpy>1.20.0 in /usr/local/lib/python3.10/dist-packages (from torchmetrics) (1.23.5)\n",
            "Requirement already satisfied: torch>=1.8.1 in /usr/local/lib/python3.10/dist-packages (from torchmetrics) (2.1.0+cu118)\n",
            "Collecting lightning-utilities>=0.8.0 (from torchmetrics)\n",
            "  Downloading lightning_utilities-0.9.0-py3-none-any.whl (23 kB)\n",
            "Requirement already satisfied: packaging>=17.1 in /usr/local/lib/python3.10/dist-packages (from lightning-utilities>=0.8.0->torchmetrics) (23.2)\n",
            "Requirement already satisfied: typing-extensions in /usr/local/lib/python3.10/dist-packages (from lightning-utilities>=0.8.0->torchmetrics) (4.5.0)\n",
            "Requirement already satisfied: filelock in /usr/local/lib/python3.10/dist-packages (from torch>=1.8.1->torchmetrics) (3.13.1)\n",
            "Requirement already satisfied: sympy in /usr/local/lib/python3.10/dist-packages (from torch>=1.8.1->torchmetrics) (1.12)\n",
            "Requirement already satisfied: networkx in /usr/local/lib/python3.10/dist-packages (from torch>=1.8.1->torchmetrics) (3.2.1)\n",
            "Requirement already satisfied: jinja2 in /usr/local/lib/python3.10/dist-packages (from torch>=1.8.1->torchmetrics) (3.1.2)\n",
            "Requirement already satisfied: fsspec in /usr/local/lib/python3.10/dist-packages (from torch>=1.8.1->torchmetrics) (2023.6.0)\n",
            "Requirement already satisfied: triton==2.1.0 in /usr/local/lib/python3.10/dist-packages (from torch>=1.8.1->torchmetrics) (2.1.0)\n",
            "Requirement already satisfied: MarkupSafe>=2.0 in /usr/local/lib/python3.10/dist-packages (from jinja2->torch>=1.8.1->torchmetrics) (2.1.3)\n",
            "Requirement already satisfied: mpmath>=0.19 in /usr/local/lib/python3.10/dist-packages (from sympy->torch>=1.8.1->torchmetrics) (1.3.0)\n",
            "Installing collected packages: lightning-utilities, torchmetrics\n",
            "Successfully installed lightning-utilities-0.9.0 torchmetrics-1.2.0\n",
            "2.1.0+cu118\n",
            "0.16.0+cu118\n",
            "Downloading http://fashion-mnist.s3-website.eu-central-1.amazonaws.com/train-images-idx3-ubyte.gz\n",
            "Downloading http://fashion-mnist.s3-website.eu-central-1.amazonaws.com/train-images-idx3-ubyte.gz to data/FashionMNIST/raw/train-images-idx3-ubyte.gz\n"
          ]
        },
        {
          "output_type": "stream",
          "name": "stderr",
          "text": [
            "100%|██████████| 26421880/26421880 [00:01<00:00, 15978486.41it/s]\n"
          ]
        },
        {
          "output_type": "stream",
          "name": "stdout",
          "text": [
            "Extracting data/FashionMNIST/raw/train-images-idx3-ubyte.gz to data/FashionMNIST/raw\n",
            "\n",
            "Downloading http://fashion-mnist.s3-website.eu-central-1.amazonaws.com/train-labels-idx1-ubyte.gz\n",
            "Downloading http://fashion-mnist.s3-website.eu-central-1.amazonaws.com/train-labels-idx1-ubyte.gz to data/FashionMNIST/raw/train-labels-idx1-ubyte.gz\n"
          ]
        },
        {
          "output_type": "stream",
          "name": "stderr",
          "text": [
            "100%|██████████| 29515/29515 [00:00<00:00, 270098.12it/s]\n"
          ]
        },
        {
          "output_type": "stream",
          "name": "stdout",
          "text": [
            "Extracting data/FashionMNIST/raw/train-labels-idx1-ubyte.gz to data/FashionMNIST/raw\n",
            "\n",
            "Downloading http://fashion-mnist.s3-website.eu-central-1.amazonaws.com/t10k-images-idx3-ubyte.gz\n",
            "Downloading http://fashion-mnist.s3-website.eu-central-1.amazonaws.com/t10k-images-idx3-ubyte.gz to data/FashionMNIST/raw/t10k-images-idx3-ubyte.gz\n"
          ]
        },
        {
          "output_type": "stream",
          "name": "stderr",
          "text": [
            "100%|██████████| 4422102/4422102 [00:00<00:00, 4976305.24it/s]\n"
          ]
        },
        {
          "output_type": "stream",
          "name": "stdout",
          "text": [
            "Extracting data/FashionMNIST/raw/t10k-images-idx3-ubyte.gz to data/FashionMNIST/raw\n",
            "\n",
            "Downloading http://fashion-mnist.s3-website.eu-central-1.amazonaws.com/t10k-labels-idx1-ubyte.gz\n",
            "Downloading http://fashion-mnist.s3-website.eu-central-1.amazonaws.com/t10k-labels-idx1-ubyte.gz to data/FashionMNIST/raw/t10k-labels-idx1-ubyte.gz\n"
          ]
        },
        {
          "output_type": "stream",
          "name": "stderr",
          "text": [
            "100%|██████████| 5148/5148 [00:00<00:00, 21766408.26it/s]"
          ]
        },
        {
          "output_type": "stream",
          "name": "stdout",
          "text": [
            "Extracting data/FashionMNIST/raw/t10k-labels-idx1-ubyte.gz to data/FashionMNIST/raw\n",
            "\n"
          ]
        },
        {
          "output_type": "stream",
          "name": "stderr",
          "text": [
            "\n"
          ]
        }
      ],
      "source": [
        "#once per session\n",
        "\n",
        "!pip install torchmetrics\n",
        "\n",
        "\n",
        "#includes\n",
        "import torch\n",
        "from torch import nn\n",
        "\n",
        "import torchvision\n",
        "from torchvision import datasets\n",
        "from torchvision import transforms\n",
        "from torchvision.transforms import ToTensor\n",
        "\n",
        "import matplotlib.pyplot as plt\n",
        "\n",
        "import torchmetrics\n",
        "from torchmetrics import Accuracy\n",
        "\n",
        "from torch.utils.data import DataLoader\n",
        "\n",
        "import tqdm\n",
        "from tqdm.auto import tqdm\n",
        "from timeit import default_timer as timer\n",
        "\n",
        "print(torch.__version__)\n",
        "print(torchvision.__version__)\n",
        "\n",
        "train_data = datasets.FashionMNIST(\n",
        "    root=\"data\",#destination directory\n",
        "    train=True, #training, not test\n",
        "    download=True, #download yes\n",
        "    transform=ToTensor(), #how output should be handled\n",
        "    target_transform=None #how lables/targets should be handled\n",
        ")\n",
        "\n",
        "test_data = datasets.FashionMNIST(\n",
        "    root=\"data\",\n",
        "    train=False,\n",
        "    download=True,\n",
        "    transform=ToTensor(),\n",
        "    target_transform=None\n",
        ")"
      ]
    },
    {
      "cell_type": "code",
      "source": [
        "\n",
        "#everything else - run every time\n",
        "\n",
        "SEED_BASE = int(\"BADBEEF\",16)\n",
        "IN_FEAT = 28*28 #based on input data\n",
        "class_names = list(train_data.classes)\n",
        "OUT_CLASSES = len(class_names)  #based on # of output classes in data\n",
        "BATCH_SIZE_TOT = 32\n",
        "BATCH_SIZE_DAT = 24 #24 per 32 will be from data set\n",
        "BATCH_SIZE_NOISE = 8 #8 will be randomly generated noise\n",
        "HIDDEN_UNIT_DEF = 10\n",
        "device = \"cuda\" if torch.cuda.is_available() else \"cpu\"\n",
        "\n",
        "if(device == \"cpu\"):\n",
        "  torch.manual_seed(SEED_BASE)\n",
        "else:torch.cuda.manual_seed(SEED_BASE)\n",
        "\n",
        "train_dataloader = DataLoader(dataset=train_data,\n",
        "                              batch_size=BATCH_SIZE_DAT,\n",
        "                              shuffle=True) #shuffle makes it so that ordered\n",
        "                                            # data sets don't matter\n",
        "\n",
        "\n",
        "\n",
        "test_dataloader = DataLoader(dataset=test_data,\n",
        "                             batch_size=BATCH_SIZE_DAT,\n",
        "                             shuffle=False)\n",
        "\n",
        "#class and function definitions\n",
        "\n",
        "#define fashion model\n",
        "class FashionMNISTModel1(nn.Module):\n",
        "  def __init__(self,\n",
        "               input_shape: int,\n",
        "               hidden_units: int,\n",
        "               output_shape: int):\n",
        "    super().__init__()\n",
        "    self.layer_stack = nn.Sequential(\n",
        "      nn.Flatten(),#flatten the 28x28 input to a vector\n",
        "      nn.Linear(in_features=input_shape,  out_features=hidden_units),\n",
        "      nn.ReLU(),\n",
        "      nn.Linear(in_features=hidden_units, out_features=hidden_units),\n",
        "      nn.ReLU()\n",
        "    )\n",
        "\n",
        "  def forward(self,x):\n",
        "    return self.layer_stack(x)\n",
        "\n",
        "model_fashion = FashionMNISTModel1(input_shape=IN_FEAT,\n",
        "                                   hidden_units = HIDDEN_UNIT_DEF,\n",
        "                                   output_shape=OUT_CLASSES+1\n",
        "                                   ).to(device)\n",
        "\n",
        "def training_step(model: torch.nn.Module,\n",
        "                  data_loader: torch.utils.data.DataLoader,\n",
        "                  loss_fn: torch.nn.Module,\n",
        "                  opt: torch.optim.Optimizer,\n",
        "                  acc_fn,\n",
        "                  device: torch.device = device):\n",
        "\n",
        "  model.train()\n",
        "  train_loss = 0\n",
        "  train_acc = 0\n",
        "\n",
        "  #loop through each batch in data_loader\n",
        "  for batch, (X_trd,y_trd) in enumerate(data_loader):\n",
        "\n",
        "    #if(device == \"cpu\"):\n",
        "    #  torch.manual_seed(batch*10)\n",
        "    #else:torch.cuda.manual_seed(batch*10)\n",
        "\n",
        "    #move data to device\n",
        "    X_trd = X_trd.to(device)\n",
        "    y_trd = y_trd.to(device)\n",
        "\n",
        "    if BATCH_SIZE_NOISE > 0 :\n",
        "      for n_idx in range(BATCH_SIZE_NOISE):\n",
        "        #concateante garbage noise\n",
        "        randim = torch.rand(1,1,28,28)\n",
        "        X_trd = torch.cat((X_trd,randim),dim=0)\n",
        "        y_trd = torch.cat((y_trd,torch.tensor([OUT_CLASSES])))\n",
        "      #end noise creation loop\n",
        "      if batch == 0:\n",
        "        print(f\"injected {BATCH_SIZE_NOISE} noise frames\")\n",
        "    #end noise injection\n",
        "\n",
        "    #forward pass - make predictions\n",
        "    y_trp = model(X_trd)\n",
        "    #if batch == 0:\n",
        "    #  print(f\"y_trp {y_trp}\\ny_trd {y_trd}\")\n",
        "\n",
        "    #calculate loss per batch\n",
        "    train_batch_loss = loss_fn(y_trp,y_trd)\n",
        "    train_loss += train_batch_loss\n",
        "\n",
        "    train_acc += acc_fn(y_trp.argmax(dim=1),y_trd)\n",
        "    #print(f\"train batch loss = {train_batch_loss}\")\n",
        "    #print(f\"train_acc = {acc_fn(y_trp.argmax(dim=1),y_trd)}\")\n",
        "\n",
        "    #zero gradient the optimizer\n",
        "    opt.zero_grad()\n",
        "\n",
        "\n",
        "    #calculate model update\n",
        "    train_batch_loss.backward()\n",
        "\n",
        "    #step the optimizer, update the model\n",
        "    opt.step()\n",
        "  #end of batch enumeration\n",
        "\n",
        "  train_loss = train_loss / len(data_loader)\n",
        "  train_acc = train_acc / len(data_loader)\n",
        "\n",
        "  print(f\"Train loss: {train_loss:.5f}  ::: Train Acc: {train_acc:.2f}\")\n",
        "\n",
        "#end def training_step\n",
        "\n",
        "\n",
        "def test_model(model: torch.nn.Module,\n",
        "               data_loader: torch.utils.data.DataLoader,\n",
        "               loss_fn: torch.nn.Module,\n",
        "               acc_fn,\n",
        "               device: torch.device = device):\n",
        "  \"\"\"Returns a dictionary containing results of model predicting data loader\"\"\"\n",
        "  loss = 0\n",
        "  acc = 0\n",
        "\n",
        "  model.eval()\n",
        "  with torch.inference_mode():\n",
        "    for X_ted,y_ted in tqdm(data_loader):\n",
        "\n",
        "      X_ted = X_ted.to(device)\n",
        "      y_ted = y_ted.to(device)\n",
        "\n",
        "      #make prediction\n",
        "      y_tep = model(X_ted)\n",
        "\n",
        "      #accumulate loss\n",
        "      loss += loss_fn(y_tep,y_ted)\n",
        "      acc += acc_fn(y_tep.argmax(dim=1),y_ted)\n",
        "    #end batch loop\n",
        "\n",
        "  #end inference_mode\n",
        "\n",
        "  #scale loss and acc to be per batch\n",
        "  loss = loss/len(data_loader)\n",
        "  acc = acc/len(data_loader)\n",
        "\n",
        "\n",
        "  print(f\"Test loss: {loss:.5f}  ::: Test Acc: {acc:.2f}\")\n",
        "\n",
        "  return {\"model_name\":model.__class__.__name__,\n",
        "          \"model_loss\":loss.item(),\n",
        "          \"model_acc\":acc}\n",
        "\n",
        "#end eval_model()\n",
        "\n",
        "\n",
        "\n",
        "\n",
        "#create a Convolution Neural Network\n",
        "# input -> convultional layer -> ReLU layer (activation) -> pooling layer\n",
        "# (opt next layer) -> convolutional layer -> ReLU layer -> pooling layer\n",
        "# -> linear output layer\n",
        "\n",
        "#convolution layer applies a kernel (a small matrix) over the image,\n",
        "# like a filter, and produces an output that can be same-ish size as input\n",
        "\n",
        "#replicate the Tiny VGG network on https://poloclub.github.io/cnn-explainer/\n",
        "#kernel size - 3 means 3x3, can take a tuple as well\n",
        "#stride - step in input between kernel frames.  2 means every other pixel\n",
        "#padding - added stuff around the border\n",
        "\n",
        "FLATTEN_OUTPUT = 7*7 #28x28 pixel input, compressed down to 14x14 from first\n",
        "# conv block, then 7x7 from second conv block.  Conv2d documentation has formula\n",
        "class model_fashion_conv0(nn.Module):\n",
        "\n",
        "  def __init__(self,\n",
        "               input_shape: int,\n",
        "               hidden_units: int,\n",
        "               output_shape: int):\n",
        "    super().__init__()\n",
        "    self.conv_block_1 = nn.Sequential(\n",
        "        nn.Conv2d(in_channels=input_shape,out_channels=hidden_units,\n",
        "                  kernel_size = 3,stride = 1,padding = 1),\n",
        "        nn.ReLU(),\n",
        "        nn.Conv2d(in_channels=hidden_units,out_channels=hidden_units,\n",
        "                  kernel_size=3,stride=1,padding=1),\n",
        "        nn.ReLU(),\n",
        "        nn.MaxPool2d(kernel_size=2)\n",
        "    )\n",
        "    self.conv_block_2 = nn.Sequential(\n",
        "        nn.Conv2d(in_channels=hidden_units,out_channels=hidden_units,\n",
        "                  kernel_size = 3,stride = 1,padding =1),\n",
        "        nn.ReLU(),\n",
        "        nn.Conv2d(in_channels=hidden_units,out_channels=hidden_units,\n",
        "                  kernel_size=3,stride=1,padding=1),\n",
        "        nn.MaxPool2d(kernel_size=2)\n",
        "    )\n",
        "    self.class_layer = nn.Sequential(\n",
        "        nn.Flatten(),\n",
        "        nn.Linear(in_features=hidden_units*FLATTEN_OUTPUT,\n",
        "                  out_features=output_shape)\n",
        "    )\n",
        "  #end def __init__()\n",
        "\n",
        "  def forward(self,x):\n",
        "    x = self.conv_block_1(x)\n",
        "    x = self.conv_block_2(x)\n",
        "    x = self.class_layer(x)\n",
        "    return x\n",
        "\n",
        "  #end def forward()\n",
        "\n",
        "#end model_fashion_conv0 definition\n",
        "\n",
        "\n",
        "#create a cnv. neural network\n",
        "\n",
        "#model specific params\n",
        "EPOCHS = 1\n",
        "HIDDEN_UNITS = 16\n",
        "IN_CHANNELS = 1 #channels! because first input is greyscale\n",
        "class_names = list(train_data.classes)\n",
        "OUT_CLASSES = len(class_names)\n",
        "\n",
        "model_fashion_2 = model_fashion_conv0(input_shape = IN_CHANNELS, #channels! greyscale\n",
        "                                     hidden_units = HIDDEN_UNITS,\n",
        "                                     output_shape = OUT_CLASSES+1).to(device)\n",
        "\n",
        "\n",
        "#model shape debug below (generate random image input to check the shape works)\n",
        "\n",
        "#train and test model using functions above\n",
        "m2_loss_fn = nn.CrossEntropyLoss()\n",
        "m2_opt = torch.optim.SGD(params=model_fashion_2.parameters(),lr = .05)\n",
        "m2_acc_fn = Accuracy(task=\"MULTICLASS\",num_classes=OUT_CLASSES+1).to(device)\n",
        "\n"
      ],
      "metadata": {
        "id": "0yxXfC4ft06Q"
      },
      "execution_count": 2,
      "outputs": []
    },
    {
      "cell_type": "code",
      "source": [
        "for epoch in tqdm(range(EPOCHS)):\n",
        "  print(f\"Starting Epoch {epoch}\\n-----------\\n\")\n",
        "  training_step(model = model_fashion_2,\n",
        "                data_loader = train_dataloader,\n",
        "                loss_fn = m2_loss_fn,\n",
        "                opt = m2_opt,\n",
        "                acc_fn = m2_acc_fn)\n",
        "  test_model(model=model_fashion_2,\n",
        "             data_loader = test_dataloader,\n",
        "             loss_fn = m2_loss_fn,\n",
        "             acc_fn = m2_acc_fn)\n",
        "#end epoch loop"
      ],
      "metadata": {
        "id": "2n6zXPsrHbUo"
      },
      "execution_count": null,
      "outputs": []
    },
    {
      "cell_type": "code",
      "source": [],
      "metadata": {
        "id": "I0lZMshs8oHV"
      },
      "execution_count": null,
      "outputs": []
    },
    {
      "cell_type": "code",
      "source": [
        "#debug\n",
        "#use item through model manually\n",
        "INDEX = 21\n",
        "idx = INDEX % len(train_data)\n",
        "class_names_alt = class_names + [\"noise\"]\n",
        "\n",
        "img,label = train_data[idx]\n",
        "print(img.shape)\n",
        "plt.imshow(img.squeeze(),cmap=\"gray\")\n",
        "pred = model_fashion_2(img.unsqueeze(dim=0))\n",
        "print(pred.shape)\n",
        "print(pred)\n",
        "\n",
        "pred_prb = torch.softmax(pred,dim=1)\n",
        "pred_lbl = torch.argmax(pred_prb,dim=1)\n",
        "\n",
        "print(pred_prb)\n",
        "print(f\"Identified Item:{class_names_alt[pred_lbl]}, confidence = {100*max(pred_prb.squeeze()):.1f}%\")\n",
        "print(f\"item index: {pred_lbl}\")"
      ],
      "metadata": {
        "colab": {
          "base_uri": "https://localhost:8080/",
          "height": 591
        },
        "id": "FXOcz2ei9QdB",
        "outputId": "088b376f-42c3-4941-80ee-0b672a37b46f"
      },
      "execution_count": 54,
      "outputs": [
        {
          "output_type": "stream",
          "name": "stdout",
          "text": [
            "torch.Size([1, 28, 28])\n",
            "torch.Size([1, 11])\n",
            "tensor([[ 1.4529,  8.9420, -2.5530,  2.8340,  3.3417, -3.8823, -0.4213, -0.9807,\n",
            "         -0.4502, -3.1208, -4.5795]], grad_fn=<AddmmBackward0>)\n",
            "tensor([[5.5541e-04, 9.9333e-01, 1.0112e-05, 2.2102e-03, 3.6720e-03, 2.6764e-06,\n",
            "         8.5241e-05, 4.8720e-05, 8.2816e-05, 5.7318e-06, 1.3328e-06]],\n",
            "       grad_fn=<SoftmaxBackward0>)\n",
            "Identified Item:Trouser, confidence = 99.3%\n",
            "item index: tensor([1])\n"
          ]
        },
        {
          "output_type": "display_data",
          "data": {
            "text/plain": [
              "<Figure size 640x480 with 1 Axes>"
            ],
            "image/png": "[encoded data removed]"
          },
          "metadata": {}
        }
      ]
    },
    {
      "cell_type": "code",
      "source": [
        "seed_ctr = 1\n",
        "class_names\n",
        "OUT_CLASSES"
      ],
      "metadata": {
        "colab": {
          "base_uri": "https://localhost:8080/"
        },
        "id": "I7PdBpCd-Yqv",
        "outputId": "318423c8-6b11-47cc-fc5f-93e91161c3f4"
      },
      "execution_count": 66,
      "outputs": [
        {
          "output_type": "execute_result",
          "data": {
            "text/plain": [
              "10"
            ]
          },
          "metadata": {},
          "execution_count": 66
        }
      ]
    },
    {
      "cell_type": "code",
      "source": [
        "#debug random noise\n",
        "#create simple input to get model shapes working/debugged\n",
        "torch.manual_seed(seed_ctr)\n",
        "seed_ctr+= 1\n",
        "class_names_alt = class_names + [\"noise\"]\n",
        "randinput=torch.randn(size=(1,1,28,28))\n",
        "img = randinput[0]\n",
        "print(img.shape)\n",
        "plt.imshow(img.squeeze(),cmap=\"gray\")\n",
        "pred = model_fashion_2(randinput)\n",
        "print(pred.shape)\n",
        "print(pred)\n",
        "\n",
        "pred_prb = torch.softmax(pred,dim=1)\n",
        "pred_lbl = torch.argmax(pred_prb,dim=1)\n",
        "\n",
        "#print(pred_prb)\n",
        "print(f\"Identified Item:{class_names_alt[pred_lbl]}, confidence = {100*max(pred_prb.squeeze()):.1f}%\")\n",
        "print(f\"item index: {pred_lbl}\")"
      ],
      "metadata": {
        "colab": {
          "base_uri": "https://localhost:8080/",
          "height": 537
        },
        "id": "51hviP_U-CiN",
        "outputId": "9e64d276-34f3-49ba-b723-eb218384c317"
      },
      "execution_count": 72,
      "outputs": [
        {
          "output_type": "stream",
          "name": "stdout",
          "text": [
            "torch.Size([1, 28, 28])\n",
            "torch.Size([1, 11])\n",
            "tensor([[ 2.0270,  0.1485, -1.5163,  0.1557,  0.8220, -0.3168,  2.1227, -2.9548,\n",
            "          1.8265, -0.9973,  1.3166]], grad_fn=<AddmmBackward0>)\n",
            "Identified Item:Shirt, confidence = 26.2%\n",
            "item index: tensor([6])\n"
          ]
        },
        {
          "output_type": "display_data",
          "data": {
            "text/plain": [
              "<Figure size 640x480 with 1 Axes>"
            ],
            "image/png": "[encoded data removed]"
          },
          "metadata": {}
        }
      ]
    },
    {
      "cell_type": "code",
      "source": [
        "import random\n",
        "random.seed(SEED_BASE)\n"
      ],
      "metadata": {
        "id": "3HpvgRBNyU3p"
      },
      "execution_count": 9,
      "outputs": []
    },
    {
      "cell_type": "code",
      "source": [
        "test_samples = []\n",
        "test_labels = []\n",
        "for sample,label in random.sample(list(test_data),k=9):\n",
        "  test_samples.append(sample)\n",
        "  test_labels.append(label)\n",
        "#end for\n",
        "\n",
        "plt.imshow(test_samples[0].squeeze(),cmap=\"gray\")"
      ],
      "metadata": {
        "colab": {
          "base_uri": "https://localhost:8080/",
          "height": 448
        },
        "id": "3pY5I7gazPU0",
        "outputId": "9190788e-695c-46b9-8ec7-38e6573d14f6"
      },
      "execution_count": 12,
      "outputs": [
        {
          "output_type": "execute_result",
          "data": {
            "text/plain": [
              "<matplotlib.image.AxesImage at 0x7e8590cd2980>"
            ]
          },
          "metadata": {},
          "execution_count": 12
        },
        {
          "output_type": "display_data",
          "data": {
            "text/plain": [
              "<Figure size 640x480 with 1 Axes>"
            ],
            "image/png": "[encoded data removed]"
          },
          "metadata": {}
        }
      ]
    },
    {
      "cell_type": "code",
      "source": [
        "def noise_calcs(model: torch.nn.Module,num_itr: int, class_names, correct_class):\n",
        "  correct = 0\n",
        "  avg_conf_wr = 0 #average confidence of wrong answers\n",
        "  for i in range(num_itr):\n",
        "    class_names_alt = class_names + [\"noise\"]\n",
        "    randinput=torch.randn(size=(1,1,28,28))\n",
        "    pred = model(randinput)\n",
        "\n",
        "    pred_prb = torch.softmax(pred,dim=1)\n",
        "    pred_lbl = torch.argmax(pred_prb,dim=1)\n",
        "\n",
        "    if pred_lbl == correct_class:\n",
        "      correct = correct+1\n",
        "    else:\n",
        "      avg_conf_wr += max(pred_prb.squeeze())\n",
        "      #print(f\"Wrong confidence: {max(pred_prb.squeeze()):.2f}\")\n",
        "    #endif\n",
        "  #end for\n",
        "  avg_conf_wr /= (num_itr - correct)\n",
        "  correct /= num_itr\n",
        "  print(f\"{correct} items correct and avg confidence {100*avg_conf_wr:.1f}%\")\n",
        "  return (correct,avg_conf_wr)\n",
        "#end noise_calcs()\n",
        "\n"
      ],
      "metadata": {
        "id": "-woYHglfDGfh"
      },
      "execution_count": 13,
      "outputs": []
    },
    {
      "cell_type": "code",
      "source": [
        "x,y = noise_calcs(model=model_fashion_2,num_itr=10,class_names=class_names,OUT_CLASSES = OUT_CLASSES)\n",
        "\n"
      ],
      "metadata": {
        "colab": {
          "base_uri": "https://localhost:8080/"
        },
        "id": "CfsSuGwDFVMm",
        "outputId": "51769106-4a59-42a0-99f9-236a1aba621a"
      },
      "execution_count": 79,
      "outputs": [
        {
          "output_type": "stream",
          "name": "stdout",
          "text": [
            "0.0 items correct and avg confidence 9.7%\n"
          ]
        }
      ]
    },
    {
      "cell_type": "markdown",
      "source": [
        "Notes:\n",
        "  \n",
        "\n",
        "*   Models all have 16 hidden units, same structure\n",
        "*   Control batches of 32 images\n",
        "*   Others 24 images/8 random noise\n",
        "*   Measure test acc after 5 epochs\n",
        "*   Measure 100 noise images - how many correctly IDd and avg confidence when wrong\n",
        "\n",
        "Control:\n",
        "0.0 items correct and avg confidence 9.7%\n",
        "\n",
        "*   Test Acc:\n",
        "*   Correct Noise: 0 (impossible...)\n",
        "*   Wrong confidence:\n",
        "\n",
        "Noise Injected:\n",
        "\n",
        "\n",
        "*   Test Acc:\n",
        "*   Correct Noise: 0\n",
        "*   Wrong confidence:\n",
        "\n",
        "Why 9.7% both times?!\n",
        "\n",
        "\n",
        "\n",
        "\n",
        "\n"
      ],
      "metadata": {
        "id": "fZxOLoEjAdkV"
      }
    },
    {
      "cell_type": "code",
      "source": [
        "BATCH_SIZE_TOT = 32\n",
        "BATCH_SIZE_DAT = 24 #24 per 32 will be from data set\n",
        "BATCH_SIZE_NOISE = 8\n",
        "EPOCHS = 5\n",
        "\n",
        "train_dataloader = DataLoader(dataset=train_data,\n",
        "                              batch_size=BATCH_SIZE_DAT,\n",
        "                              shuffle=True) #shuffle makes it so that ordered\n",
        "                                            # data sets don't matter\n",
        "\n",
        "test_dataloader = DataLoader(dataset=test_data,\n",
        "                             batch_size=BATCH_SIZE_DAT,\n",
        "                             shuffle=False)\n",
        "\n",
        "if(device == \"cpu\"):\n",
        "  torch.manual_seed(SEED_BASE)\n",
        "else:torch.cuda.manual_seed(SEED_BASE)\n",
        "\n",
        "model_fashion_test = model_fashion_conv0(input_shape = IN_CHANNELS, #channels! greyscale\n",
        "                                     hidden_units = HIDDEN_UNITS,\n",
        "                                     output_shape = OUT_CLASSES+1).to(device)\n",
        "mt_loss_fn = nn.CrossEntropyLoss()\n",
        "mt_opt = torch.optim.SGD(params=model_fashion_test.parameters(),lr = .05)\n",
        "mt_acc_fn = Accuracy(task=\"MULTICLASS\",num_classes=OUT_CLASSES+1).to(device)\n",
        "\n",
        "if(device == \"cpu\"):\n",
        "  torch.manual_seed(SEED_BASE)\n",
        "else:torch.cuda.manual_seed(SEED_BASE)\n",
        "\n",
        "for epoch in tqdm(range(EPOCHS)):\n",
        "  print(f\"Starting Epoch {epoch}\\n-----------\\n\")\n",
        "  training_step(model = model_fashion_test,\n",
        "                data_loader = train_dataloader,\n",
        "                loss_fn = mt_loss_fn,\n",
        "                opt = mt_opt,\n",
        "                acc_fn = mt_acc_fn)\n",
        "#end epoch loop\n",
        "test_model(model=model_fashion_test,\n",
        "           data_loader = test_dataloader,\n",
        "           loss_fn = mt_loss_fn,\n",
        "           acc_fn = mt_acc_fn)\n",
        "\n",
        "noise_calcs(model=model_fashion_test,num_itr=100,class_names=class_names,correct_class = OUT_CLASSES)"
      ],
      "metadata": {
        "colab": {
          "base_uri": "https://localhost:8080/",
          "height": 582,
          "referenced_widgets": [
            "701a7128954c46fab70cdf98a6a695cd",
            "21a7a839e99b4dada73096a2f7630dce",
            "8a30de95c00d40d9bc8d9627599db018",
            "1ea985c7a5f04f0493e9aa6503b192b8",
            "5cb51354bb73442389d4e7673e44f43b",
            "fe36c3d987ad4c1dadd62cef480ce11c",
            "304afbd9c30648009e7ab0e35490140d",
            "053b3a93f2c24de08e35b0b3d5dab396",
            "8a5c8cf2b7454d6d885603088b369612",
            "e5296a46cbe14b43a0e14ae79c903bee",
            "5f674fcd5b0a4e31bd643e81c90eefba",
            "248e6fde988449fc83b0f75f28c439e8",
            "8d0b3adb2ec34da9be2ed4cdf2ae1863",
            "74afea0ce3a74e70a237952d743ffd26",
            "50e201bb32d9416e83e5dfde32869613",
            "9932718b9b9c4591bfc5346ba94afd39",
            "e5b661f2c93e4a80b39d182e3ba3a968",
            "816c1d7c3369495eb547b41252f020a7",
            "934ce01e179d4eb2a63d54f2e5c5c2d0",
            "ab1190f2b4694d139eaa260db72e2734",
            "e94608fe15634927b4c7f1217e0863ad",
            "8ef0ed480f7b45ddb006f1519c55b0b5"
          ]
        },
        "id": "NxLSG7toCOyi",
        "outputId": "ee5c28a7-bb99-43c3-8a8d-e131a8941df0"
      },
      "execution_count": 6,
      "outputs": [
        {
          "output_type": "display_data",
          "data": {
            "text/plain": [
              "  0%|          | 0/5 [00:00<?, ?it/s]"
            ],
            "application/vnd.jupyter.widget-view+json": {
              "version_major": 2,
              "version_minor": 0,
              "model_id": "701a7128954c46fab70cdf98a6a695cd"
            }
          },
          "metadata": {}
        },
        {
          "output_type": "stream",
          "name": "stdout",
          "text": [
            "Starting Epoch 0\n",
            "-----------\n",
            "\n",
            "injected 8 noise frames\n",
            "Train loss: 0.41596  ::: Train Acc: 0.85\n",
            "Starting Epoch 1\n",
            "-----------\n",
            "\n",
            "injected 8 noise frames\n",
            "Train loss: 0.26512  ::: Train Acc: 0.91\n",
            "Starting Epoch 2\n",
            "-----------\n",
            "\n",
            "injected 8 noise frames\n",
            "Train loss: 0.23598  ::: Train Acc: 0.91\n",
            "Starting Epoch 3\n",
            "-----------\n",
            "\n",
            "injected 8 noise frames\n",
            "Train loss: 0.21750  ::: Train Acc: 0.92\n",
            "Starting Epoch 4\n",
            "-----------\n",
            "\n",
            "injected 8 noise frames\n",
            "Train loss: 0.20416  ::: Train Acc: 0.93\n"
          ]
        },
        {
          "output_type": "display_data",
          "data": {
            "text/plain": [
              "  0%|          | 0/417 [00:00<?, ?it/s]"
            ],
            "application/vnd.jupyter.widget-view+json": {
              "version_major": 2,
              "version_minor": 0,
              "model_id": "248e6fde988449fc83b0f75f28c439e8"
            }
          },
          "metadata": {}
        },
        {
          "output_type": "stream",
          "name": "stdout",
          "text": [
            "Test loss: 0.29652  ::: Test Acc: 0.89\n",
            "0.0 items correct and avg confidence 9.7%\n"
          ]
        },
        {
          "output_type": "execute_result",
          "data": {
            "text/plain": [
              "(0.0, tensor(0.0971, grad_fn=<DivBackward0>))"
            ]
          },
          "metadata": {},
          "execution_count": 6
        }
      ]
    },
    {
      "cell_type": "code",
      "source": [
        "noise_calcs(model=model_fashion_test,num_itr=100,class_names=class_names,correct_class = OUT_CLASSES)"
      ],
      "metadata": {
        "colab": {
          "base_uri": "https://localhost:8080/"
        },
        "id": "Smpxd65DLNXx",
        "outputId": "df35137d-4643-4404-f36b-414213ef4a30"
      },
      "execution_count": 12,
      "outputs": [
        {
          "output_type": "stream",
          "name": "stdout",
          "text": [
            "Wrong confidence: 1.00\n",
            "Wrong confidence: 1.00\n",
            "Wrong confidence: 1.00\n",
            "Wrong confidence: 1.00\n",
            "Wrong confidence: 1.00\n",
            "Wrong confidence: 1.00\n",
            "Wrong confidence: 1.00\n",
            "Wrong confidence: 0.92\n",
            "Wrong confidence: 1.00\n",
            "Wrong confidence: 0.65\n",
            "Wrong confidence: 1.00\n",
            "Wrong confidence: 1.00\n",
            "Wrong confidence: 0.81\n",
            "Wrong confidence: 1.00\n",
            "Wrong confidence: 1.00\n",
            "Wrong confidence: 1.00\n",
            "Wrong confidence: 1.00\n",
            "Wrong confidence: 1.00\n",
            "Wrong confidence: 0.98\n",
            "Wrong confidence: 0.91\n",
            "Wrong confidence: 1.00\n",
            "Wrong confidence: 0.79\n",
            "Wrong confidence: 1.00\n",
            "Wrong confidence: 0.98\n",
            "Wrong confidence: 1.00\n",
            "Wrong confidence: 0.92\n",
            "Wrong confidence: 1.00\n",
            "Wrong confidence: 1.00\n",
            "Wrong confidence: 0.94\n",
            "Wrong confidence: 1.00\n",
            "Wrong confidence: 1.00\n",
            "Wrong confidence: 1.00\n",
            "Wrong confidence: 1.00\n",
            "Wrong confidence: 0.65\n",
            "Wrong confidence: 1.00\n",
            "Wrong confidence: 0.99\n",
            "Wrong confidence: 1.00\n",
            "Wrong confidence: 0.95\n",
            "Wrong confidence: 1.00\n",
            "Wrong confidence: 1.00\n",
            "Wrong confidence: 0.99\n",
            "Wrong confidence: 1.00\n",
            "Wrong confidence: 1.00\n",
            "Wrong confidence: 1.00\n",
            "Wrong confidence: 1.00\n",
            "Wrong confidence: 0.98\n",
            "Wrong confidence: 0.90\n",
            "Wrong confidence: 1.00\n",
            "Wrong confidence: 0.99\n",
            "Wrong confidence: 1.00\n",
            "Wrong confidence: 1.00\n",
            "Wrong confidence: 1.00\n",
            "Wrong confidence: 0.88\n",
            "Wrong confidence: 1.00\n",
            "Wrong confidence: 0.96\n",
            "Wrong confidence: 1.00\n",
            "Wrong confidence: 0.99\n",
            "Wrong confidence: 0.83\n",
            "Wrong confidence: 1.00\n",
            "Wrong confidence: 1.00\n",
            "Wrong confidence: 1.00\n",
            "Wrong confidence: 1.00\n",
            "Wrong confidence: 1.00\n",
            "Wrong confidence: 0.71\n",
            "Wrong confidence: 1.00\n",
            "Wrong confidence: 0.99\n",
            "Wrong confidence: 1.00\n",
            "Wrong confidence: 1.00\n",
            "Wrong confidence: 0.92\n",
            "Wrong confidence: 0.98\n",
            "Wrong confidence: 1.00\n",
            "Wrong confidence: 1.00\n",
            "Wrong confidence: 1.00\n",
            "Wrong confidence: 1.00\n",
            "Wrong confidence: 0.78\n",
            "Wrong confidence: 1.00\n",
            "Wrong confidence: 1.00\n",
            "Wrong confidence: 1.00\n",
            "Wrong confidence: 1.00\n",
            "Wrong confidence: 1.00\n",
            "Wrong confidence: 1.00\n",
            "Wrong confidence: 1.00\n",
            "Wrong confidence: 1.00\n",
            "Wrong confidence: 1.00\n",
            "Wrong confidence: 1.00\n",
            "Wrong confidence: 1.00\n",
            "Wrong confidence: 1.00\n",
            "Wrong confidence: 0.76\n",
            "Wrong confidence: 1.00\n",
            "Wrong confidence: 0.82\n",
            "Wrong confidence: 1.00\n",
            "Wrong confidence: 1.00\n",
            "Wrong confidence: 0.79\n",
            "Wrong confidence: 0.93\n",
            "Wrong confidence: 1.00\n",
            "Wrong confidence: 1.00\n",
            "Wrong confidence: 1.00\n",
            "Wrong confidence: 0.75\n",
            "Wrong confidence: 1.00\n",
            "Wrong confidence: 1.00\n",
            "0.0 items correct and avg confidence 96.4%\n"
          ]
        },
        {
          "output_type": "execute_result",
          "data": {
            "text/plain": [
              "(0.0, tensor(0.9642, grad_fn=<DivBackward0>))"
            ]
          },
          "metadata": {},
          "execution_count": 12
        }
      ]
    }
  ]
}